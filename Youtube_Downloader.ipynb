{
  "nbformat": 4,
  "nbformat_minor": 0,
  "metadata": {
    "colab": {
      "provenance": [],
      "authorship_tag": "ABX9TyP1nrVS8K5dNyTwlFuFrB9s",
      "include_colab_link": true
    },
    "kernelspec": {
      "name": "python3",
      "display_name": "Python 3"
    },
    "language_info": {
      "name": "python"
    }
  },
  "cells": [
    {
      "cell_type": "markdown",
      "metadata": {
        "id": "view-in-github",
        "colab_type": "text"
      },
      "source": [
        "<a href=\"https://colab.research.google.com/github/TalhaAlvi1/yt-downloader/blob/main/Youtube_Downloader.ipynb\" target=\"_parent\"><img src=\"https://colab.research.google.com/assets/colab-badge.svg\" alt=\"Open In Colab\"/></a>"
      ]
    },
    {
      "cell_type": "code",
      "execution_count": null,
      "metadata": {
        "colab": {
          "base_uri": "https://localhost:8080/"
        },
        "id": "Xmm1_4sb5qhv",
        "outputId": "36761665-b547-492d-de12-75768ecd8887"
      },
      "outputs": [
        {
          "output_type": "stream",
          "name": "stdout",
          "text": [
            "Collecting yt-dlp\n",
            "  Downloading yt_dlp-2025.2.19-py3-none-any.whl.metadata (171 kB)\n",
            "\u001b[?25l     \u001b[90m━━━━━━━━━━━━━━━━━━━━━━━━━━━━━━━━━━━━━━━━\u001b[0m \u001b[32m0.0/171.9 kB\u001b[0m \u001b[31m?\u001b[0m eta \u001b[36m-:--:--\u001b[0m\r\u001b[2K     \u001b[91m━━━━━━━━━━━━━━━━━━━━━━━━━━━━━━━━━━━━━━\u001b[0m\u001b[90m╺\u001b[0m\u001b[90m━\u001b[0m \u001b[32m163.8/171.9 kB\u001b[0m \u001b[31m4.8 MB/s\u001b[0m eta \u001b[36m0:00:01\u001b[0m\r\u001b[2K     \u001b[90m━━━━━━━━━━━━━━━━━━━━━━━━━━━━━━━━━━━━━━━━\u001b[0m \u001b[32m171.9/171.9 kB\u001b[0m \u001b[31m3.3 MB/s\u001b[0m eta \u001b[36m0:00:00\u001b[0m\n",
            "\u001b[?25hDownloading yt_dlp-2025.2.19-py3-none-any.whl (3.2 MB)\n",
            "\u001b[2K   \u001b[90m━━━━━━━━━━━━━━━━━━━━━━━━━━━━━━━━━━━━━━━━\u001b[0m \u001b[32m3.2/3.2 MB\u001b[0m \u001b[31m46.4 MB/s\u001b[0m eta \u001b[36m0:00:00\u001b[0m\n",
            "\u001b[?25hInstalling collected packages: yt-dlp\n",
            "Successfully installed yt-dlp-2025.2.19\n"
          ]
        }
      ],
      "source": [
        "pip install yt-dlp\n"
      ]
    },
    {
      "cell_type": "code",
      "source": [
        "import yt_dlp\n",
        "\n",
        "def download_video(url, save_path=\".\"):\n",
        "    ydl_opts = {\"outtmpl\": f\"{save_path}/%(title)s.%(ext)s\"}\n",
        "    with yt_dlp.YoutubeDL(ydl_opts) as ydl:\n",
        "        ydl.download([url])\n",
        "\n",
        "if __name__ == \"__main__\":\n",
        "    video_url = input(\"Enter YouTube video URL: \")\n",
        "    download_video(video_url)\n"
      ],
      "metadata": {
        "colab": {
          "base_uri": "https://localhost:8080/"
        },
        "id": "zMKULyYG6WhU",
        "outputId": "ca9980a9-3d5a-4f3a-aeb6-c6c88ea44e21"
      },
      "execution_count": null,
      "outputs": [
        {
          "output_type": "stream",
          "name": "stdout",
          "text": [
            "Enter YouTube video URL: https://www.youtube.com/watch?v=YB8tSZzDXBI&ab_channel=NeonMan\n",
            "[youtube] Extracting URL: https://www.youtube.com/watch?v=YB8tSZzDXBI&ab_channel=NeonMan\n",
            "[youtube] YB8tSZzDXBI: Downloading webpage\n",
            "[youtube] YB8tSZzDXBI: Downloading tv client config\n",
            "[youtube] YB8tSZzDXBI: Downloading player 56511309\n",
            "[youtube] YB8tSZzDXBI: Downloading tv player API JSON\n",
            "[youtube] YB8tSZzDXBI: Downloading ios player API JSON\n",
            "[youtube] YB8tSZzDXBI: Downloading m3u8 information\n",
            "[info] YB8tSZzDXBI: Downloading 1 format(s): 303+251\n",
            "[download] Destination: ./India's got Latent COMEBACK？! 🔥｜ YouTubers SHOCKED, MS Dhoni MYSTERY, Thugesh, Honey Singh ｜.f303.webm\n",
            "[download] 100% of   69.10MiB in 00:00:01 at 52.08MiB/s  \n",
            "[download] Destination: ./India's got Latent COMEBACK？! 🔥｜ YouTubers SHOCKED, MS Dhoni MYSTERY, Thugesh, Honey Singh ｜.f251.webm\n",
            "[download] 100% of    9.68MiB in 00:00:00 at 11.44MiB/s  \n",
            "[Merger] Merging formats into \"./India's got Latent COMEBACK？! 🔥｜ YouTubers SHOCKED, MS Dhoni MYSTERY, Thugesh, Honey Singh ｜.webm\"\n",
            "Deleting original file ./India's got Latent COMEBACK？! 🔥｜ YouTubers SHOCKED, MS Dhoni MYSTERY, Thugesh, Honey Singh ｜.f251.webm (pass -k to keep)\n",
            "Deleting original file ./India's got Latent COMEBACK？! 🔥｜ YouTubers SHOCKED, MS Dhoni MYSTERY, Thugesh, Honey Singh ｜.f303.webm (pass -k to keep)\n"
          ]
        }
      ]
    }
  ]
}